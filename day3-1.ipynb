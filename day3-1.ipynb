{
 "cells": [
  {
   "cell_type": "code",
   "execution_count": 72,
   "id": "da1ccc46",
   "metadata": {},
   "outputs": [
    {
     "name": "stdout",
     "output_type": "stream",
     "text": [
      "gamma: 011000011101\n",
      "1565\n",
      "3959450\n"
     ]
    }
   ],
   "source": [
    "def get_mode(arr):\n",
    "    cs = {'0': 0, '1': 0}\n",
    "    for c in arr:\n",
    "        if c == '0':\n",
    "            cs['0'] += 1\n",
    "        else:\n",
    "            cs['1'] += 1\n",
    "    \n",
    "    if cs['0'] > (len(arr) / 2):\n",
    "        return '0'\n",
    "    else:\n",
    "        return '1'\n",
    "\n",
    "    \n",
    "def get_consumption(gamma):\n",
    "    epsilon = ['1' if c=='0' else '0' for c in gamma]\n",
    "    epsilon = ''.join(epsilon)\n",
    "    cons = int(gamma, 2) * int(epsilon, 2)\n",
    "    return cons\n",
    "    \n",
    "\n",
    "def main():\n",
    "    with open(\"day3input.txt\") as file:\n",
    "        lines = [x.strip('\\n') for x in file.readlines()]\n",
    "    \n",
    "    chars = []\n",
    "\n",
    "    for i in range(len(lines[0])):\n",
    "        cs = []\n",
    "        for line in lines:\n",
    "            cs = [x[i] for x in lines]\n",
    "        chars.append(get_mode(cs))\n",
    "    \n",
    "    gamma = ''.join(chars)\n",
    "    \n",
    "    print('gamma: ' + gamma)\n",
    "    print(int(gamma, 2))\n",
    "    print(get_consumption(gamma))\n",
    "\n",
    "if __name__ == \"__main__\":\n",
    "    main()\n"
   ]
  },
  {
   "cell_type": "code",
   "execution_count": null,
   "id": "a52feb02",
   "metadata": {},
   "outputs": [],
   "source": []
  }
 ],
 "metadata": {
  "kernelspec": {
   "display_name": "Python 3 (ipykernel)",
   "language": "python",
   "name": "python3"
  },
  "language_info": {
   "codemirror_mode": {
    "name": "ipython",
    "version": 3
   },
   "file_extension": ".py",
   "mimetype": "text/x-python",
   "name": "python",
   "nbconvert_exporter": "python",
   "pygments_lexer": "ipython3",
   "version": "3.9.7"
  }
 },
 "nbformat": 4,
 "nbformat_minor": 5
}
